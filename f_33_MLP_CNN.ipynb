{
 "cells": [
  {
   "cell_type": "markdown",
   "metadata": {
    "id": "JIe7bYJMtrfN"
   },
   "source": [
    "# MNIST 이미지 인식\n",
    "\n",
    "## 데이터 로드"
   ]
  },
  {
   "cell_type": "code",
   "execution_count": 1,
   "metadata": {
    "id": "racEBTb_ZzV7"
   },
   "outputs": [],
   "source": [
    "import numpy as np\n",
    "import matplotlib.pyplot as plt\n",
    "%matplotlib inline\n",
    "%config InlineBackend.figure_format = 'retina'"
   ]
  },
  {
   "cell_type": "code",
   "execution_count": null,
   "metadata": {
    "id": "kCgQFiLZZzV8"
   },
   "outputs": [],
   "source": [
    "# !pip install tensorflow\n",
    "# !pip install keras"
   ]
  },
  {
   "cell_type": "code",
   "execution_count": 3,
   "metadata": {
    "id": "-AQRftuEqGqx"
   },
   "outputs": [],
   "source": [
    "from keras.datasets import mnist\n",
    "from keras.utils.np_utils import to_categorical\n",
    "from keras import layers\n",
    "from keras import models"
   ]
  },
  {
   "cell_type": "markdown",
   "metadata": {
    "id": "JUaSP2MbtRiS"
   },
   "source": [
    "## MNIST 이미지 확인"
   ]
  },
  {
   "cell_type": "code",
   "execution_count": 4,
   "metadata": {
    "colab": {
     "base_uri": "https://localhost:8080/",
     "height": 315
    },
    "id": "vRUwM8gvqToI",
    "outputId": "91ca0fea-8e93-414c-a0cf-ab1b11750fe2"
   },
   "outputs": [
    {
     "name": "stdout",
     "output_type": "stream",
     "text": [
      "Downloading data from https://storage.googleapis.com/tensorflow/tf-keras-datasets/mnist.npz\n",
      "11493376/11490434 [==============================] - 0s 0us/step\n"
     ]
    },
    {
     "data": {
      "text/plain": [
       "<function matplotlib.pyplot.show>"
      ]
     },
     "execution_count": 4,
     "metadata": {
      "tags": []
     },
     "output_type": "execute_result"
    },
    {
     "data": {
      "image/png": "[encoded data removed]",
      "text/plain": [
       "<Figure size 432x288 with 1 Axes>"
      ]
     },
     "metadata": {
      "image/png": {
       "height": 248,
       "width": 251
      },
      "needs_background": "light",
      "tags": []
     },
     "output_type": "display_data"
    }
   ],
   "source": [
    "(train_images, train_labels), (test_images, test_labels) = mnist.load_data()\n",
    "plt.imshow(train_images[0], cmap=plt.cm.binary)\n",
    "plt.show"
   ]
  },
  {
   "cell_type": "code",
   "execution_count": 5,
   "metadata": {
    "colab": {
     "base_uri": "https://localhost:8080/"
    },
    "id": "vTWfRgN5ZzV_",
    "outputId": "f13f1caf-ca8a-404c-98b1-0b138c1df526"
   },
   "outputs": [
    {
     "data": {
      "text/plain": [
       "(60000, 28, 28)"
      ]
     },
     "execution_count": 5,
     "metadata": {
      "tags": []
     },
     "output_type": "execute_result"
    }
   ],
   "source": [
    "train_images.shape"
   ]
  },
  {
   "cell_type": "code",
   "execution_count": 6,
   "metadata": {
    "colab": {
     "base_uri": "https://localhost:8080/"
    },
    "id": "C_a3kWryZzV_",
    "outputId": "34c6e8de-1a7c-4afd-bcd4-e6359cc3a77e"
   },
   "outputs": [
    {
     "data": {
      "text/plain": [
       "array([5, 0, 4], dtype=uint8)"
      ]
     },
     "execution_count": 6,
     "metadata": {
      "tags": []
     },
     "output_type": "execute_result"
    }
   ],
   "source": [
    "train_labels[:3]"
   ]
  },
  {
   "cell_type": "markdown",
   "metadata": {
    "id": "tB8wYyfEZzV_"
   },
   "source": [
    "## MLP 입력 전처리\n",
    "- MLP는 1차원 텐서 즉 벡터를 입력으로 사용한다\n",
    "- 목적 변수는 원 핫 인코딩을 한다. to_categorical를 사용한다"
   ]
  },
  {
   "cell_type": "code",
   "execution_count": 7,
   "metadata": {
    "id": "EafiutHbqni_"
   },
   "outputs": [],
   "source": [
    "train_images_flat = train_images.reshape(60000, 28*28)\n",
    "train_images_flat = train_images_flat.astype('float32')/255\n",
    "\n",
    "test_images_flat = test_images.reshape(10000, 28*28)\n",
    "test_images_flat = test_images_flat.astype('float32')/255\n",
    "\n",
    "train_labels_cat = to_categorical(train_labels)\n",
    "test_labels_cat = to_categorical(test_labels)"
   ]
  },
  {
   "cell_type": "code",
   "execution_count": 8,
   "metadata": {
    "colab": {
     "base_uri": "https://localhost:8080/"
    },
    "id": "LNqZlZxqZzWA",
    "outputId": "35c402e5-20d2-447b-e4e6-a35095c5c5ea"
   },
   "outputs": [
    {
     "data": {
      "text/plain": [
       "array([[0., 0., 0., 0., 0., 1., 0., 0., 0., 0.],\n",
       "       [1., 0., 0., 0., 0., 0., 0., 0., 0., 0.],\n",
       "       [0., 0., 0., 0., 1., 0., 0., 0., 0., 0.]], dtype=float32)"
      ]
     },
     "execution_count": 8,
     "metadata": {
      "tags": []
     },
     "output_type": "execute_result"
    }
   ],
   "source": [
    "train_labels_cat[:3]"
   ]
  },
  {
   "cell_type": "markdown",
   "metadata": {
    "id": "Czew2EJub6Ja"
   },
   "source": [
    "# MLP 모델"
   ]
  },
  {
   "cell_type": "code",
   "execution_count": 9,
   "metadata": {
    "colab": {
     "base_uri": "https://localhost:8080/"
    },
    "id": "4tlDJdu8b5XD",
    "outputId": "4138c54c-f66d-4559-9611-8477c1660a21"
   },
   "outputs": [
    {
     "name": "stdout",
     "output_type": "stream",
     "text": [
      "Model: \"sequential\"\n",
      "_________________________________________________________________\n",
      "Layer (type)                 Output Shape              Param #   \n",
      "=================================================================\n",
      "dense (Dense)                (None, 100)               78500     \n",
      "_________________________________________________________________\n",
      "dense_1 (Dense)              (None, 100)               10100     \n",
      "_________________________________________________________________\n",
      "dense_2 (Dense)              (None, 10)                1010      \n",
      "=================================================================\n",
      "Total params: 89,610\n",
      "Trainable params: 89,610\n",
      "Non-trainable params: 0\n",
      "_________________________________________________________________\n"
     ]
    }
   ],
   "source": [
    "model = models.Sequential()\n",
    "model.add(layers.Dense(100, activation='relu', input_shape = (28*28,)))\n",
    "model.add(layers.Dense(100, activation='relu'))\n",
    "model.add(layers.Dense(10, activation='softmax'))\n",
    "model.summary()"
   ]
  },
  {
   "cell_type": "code",
   "execution_count": 10,
   "metadata": {
    "id": "jiv81CMBcf88"
   },
   "outputs": [],
   "source": [
    "model.compile(optimizer= 'rmsprop',\n",
    "             loss = 'categorical_crossentropy',\n",
    "             metrics = ['accuracy'])"
   ]
  },
  {
   "cell_type": "code",
   "execution_count": 11,
   "metadata": {
    "colab": {
     "base_uri": "https://localhost:8080/"
    },
    "id": "oV47F7rsb5EY",
    "outputId": "448e70bd-11c7-48d6-add0-a6096c18d917"
   },
   "outputs": [
    {
     "name": "stdout",
     "output_type": "stream",
     "text": [
      "Epoch 1/3\n",
      "938/938 [==============================] - 6s 3ms/step - loss: 0.4544 - accuracy: 0.8701\n",
      "Epoch 2/3\n",
      "938/938 [==============================] - 2s 3ms/step - loss: 0.1288 - accuracy: 0.9610\n",
      "Epoch 3/3\n",
      "938/938 [==============================] - 2s 3ms/step - loss: 0.0865 - accuracy: 0.9739\n"
     ]
    },
    {
     "data": {
      "text/plain": [
       "<tensorflow.python.keras.callbacks.History at 0x7fd080025210>"
      ]
     },
     "execution_count": 11,
     "metadata": {
      "tags": []
     },
     "output_type": "execute_result"
    }
   ],
   "source": [
    "model.fit(train_images_flat, train_labels_cat, epochs=3, batch_size=64)"
   ]
  },
  {
   "cell_type": "code",
   "execution_count": 12,
   "metadata": {
    "colab": {
     "base_uri": "https://localhost:8080/"
    },
    "id": "JWGwyDRBdNqL",
    "outputId": "8ea1312d-5a6b-4250-c35a-11a22ba4a43e"
   },
   "outputs": [
    {
     "name": "stdout",
     "output_type": "stream",
     "text": [
      "313/313 [==============================] - 1s 2ms/step - loss: 0.1022 - accuracy: 0.9708\n",
      "loss, acc =  0.10221368819475174 0.97079998254776\n"
     ]
    }
   ],
   "source": [
    "test_loss, test_acc = model.evaluate(test_images_flat, test_labels_cat)\n",
    "print('loss, acc = ',test_loss, test_acc)"
   ]
  },
  {
   "cell_type": "markdown",
   "metadata": {
    "id": "H6bgW5hsidhB"
   },
   "source": [
    "###  예측에 사용하기\n",
    "- agrmax()로 판별"
   ]
  },
  {
   "cell_type": "code",
   "execution_count": 26,
   "metadata": {
    "colab": {
     "base_uri": "https://localhost:8080/"
    },
    "id": "aC65kd69hms8",
    "outputId": "39fe45d6-b59d-4dfe-aa5f-f60538ff3bc1"
   },
   "outputs": [
    {
     "data": {
      "text/plain": [
       "array([[2.0382834e-12, 1.5866561e-09, 4.7457771e-10, 1.8228462e-02,\n",
       "        1.3693758e-16, 9.8177147e-01, 4.9218659e-13, 6.0575883e-10,\n",
       "        7.9664345e-11, 1.5834434e-08],\n",
       "       [9.9999142e-01, 1.9278930e-07, 2.5522547e-06, 1.2049653e-06,\n",
       "        6.1258540e-11, 1.3902676e-06, 2.6654698e-07, 1.3738123e-06,\n",
       "        8.2626554e-09, 1.5252366e-06],\n",
       "       [2.3249054e-09, 1.8391650e-06, 9.7726523e-05, 6.9304946e-07,\n",
       "        9.9987483e-01, 9.0188813e-08, 2.1689215e-07, 2.2938570e-05,\n",
       "        5.8515628e-08, 1.6460782e-06]], dtype=float32)"
      ]
     },
     "execution_count": 26,
     "metadata": {
      "tags": []
     },
     "output_type": "execute_result"
    }
   ],
   "source": [
    "model.predict(train_images_flat[0:3])"
   ]
  },
  {
   "cell_type": "code",
   "execution_count": 21,
   "metadata": {
    "colab": {
     "base_uri": "https://localhost:8080/"
    },
    "id": "58bzUyEUiBqU",
    "outputId": "83c84422-804e-4854-ee57-985a26ad23f2"
   },
   "outputs": [
    {
     "data": {
      "text/plain": [
       "array([5, 0, 4])"
      ]
     },
     "execution_count": 21,
     "metadata": {
      "tags": []
     },
     "output_type": "execute_result"
    }
   ],
   "source": [
    "np.argmax(model.predict(train_images_flat[0:3]), axis=1)"
   ]
  },
  {
   "cell_type": "markdown",
   "metadata": {
    "id": "44tLYKCwtYc-"
   },
   "source": [
    "# CNN 모델\n",
    "- 입력으로 4차원 구조를 필요로 한다\n",
    "- (샘플수, 행, 열, 특성수)"
   ]
  },
  {
   "cell_type": "code",
   "execution_count": 27,
   "metadata": {
    "id": "-uSV7hakZzWC"
   },
   "outputs": [],
   "source": [
    "train_images_cnn = train_images.reshape(-1,28,28,1)\n",
    "test_images_cnn = test_images.reshape(-1,28,28,1)"
   ]
  },
  {
   "cell_type": "code",
   "execution_count": 28,
   "metadata": {
    "colab": {
     "base_uri": "https://localhost:8080/"
    },
    "id": "ZF7JkSQvrYAj",
    "outputId": "d3178d98-c143-49b1-d709-674a0356b98c"
   },
   "outputs": [
    {
     "name": "stdout",
     "output_type": "stream",
     "text": [
      "Model: \"sequential_1\"\n",
      "_________________________________________________________________\n",
      "Layer (type)                 Output Shape              Param #   \n",
      "=================================================================\n",
      "conv2d (Conv2D)              (None, 26, 26, 32)        320       \n",
      "_________________________________________________________________\n",
      "max_pooling2d (MaxPooling2D) (None, 13, 13, 32)        0         \n",
      "_________________________________________________________________\n",
      "conv2d_1 (Conv2D)            (None, 11, 11, 64)        18496     \n",
      "_________________________________________________________________\n",
      "max_pooling2d_1 (MaxPooling2 (None, 5, 5, 64)          0         \n",
      "_________________________________________________________________\n",
      "conv2d_2 (Conv2D)            (None, 3, 3, 64)          36928     \n",
      "_________________________________________________________________\n",
      "flatten (Flatten)            (None, 576)               0         \n",
      "_________________________________________________________________\n",
      "dense_3 (Dense)              (None, 10)                5770      \n",
      "=================================================================\n",
      "Total params: 61,514\n",
      "Trainable params: 61,514\n",
      "Non-trainable params: 0\n",
      "_________________________________________________________________\n"
     ]
    }
   ],
   "source": [
    "from keras import layers\n",
    "from keras import models\n",
    "\n",
    "model = models.Sequential()\n",
    "model.add(layers.Conv2D(32, (3,3), activation='relu', input_shape = (28, 28,1)))\n",
    "model.add(layers.MaxPooling2D((2,2)))\n",
    "model.add(layers.Conv2D(64, (3,3), activation='relu'))\n",
    "model.add(layers.MaxPooling2D((2,2)))\n",
    "model.add(layers.Conv2D(64, (3,3), activation='relu'))\n",
    "\n",
    "model.add(layers.Flatten())\n",
    "model.add(layers.Dense(10, activation='softmax'))\n",
    "\n",
    "model.summary()   "
   ]
  },
  {
   "cell_type": "code",
   "execution_count": 29,
   "metadata": {
    "id": "_ikkdb8qsx6d"
   },
   "outputs": [],
   "source": [
    "model.compile(optimizer= 'rmsprop',\n",
    "             loss = 'categorical_crossentropy',\n",
    "             metrics = ['accuracy'])"
   ]
  },
  {
   "cell_type": "code",
   "execution_count": 30,
   "metadata": {
    "colab": {
     "base_uri": "https://localhost:8080/"
    },
    "id": "FWsfipcXu20x",
    "outputId": "68e17003-bfb6-474a-d556-5a4214482830"
   },
   "outputs": [
    {
     "name": "stdout",
     "output_type": "stream",
     "text": [
      "Epoch 1/3\n",
      "938/938 [==============================] - 33s 4ms/step - loss: 1.6063 - accuracy: 0.8676\n",
      "Epoch 2/3\n",
      "938/938 [==============================] - 3s 4ms/step - loss: 0.0617 - accuracy: 0.9822\n",
      "Epoch 3/3\n",
      "938/938 [==============================] - 3s 4ms/step - loss: 0.0448 - accuracy: 0.9875\n"
     ]
    },
    {
     "data": {
      "text/plain": [
       "<tensorflow.python.keras.callbacks.History at 0x7fd026f5f490>"
      ]
     },
     "execution_count": 30,
     "metadata": {
      "tags": []
     },
     "output_type": "execute_result"
    }
   ],
   "source": [
    "model.fit(train_images_cnn, train_labels_cat, epochs=3, batch_size=64)"
   ]
  },
  {
   "cell_type": "code",
   "execution_count": 31,
   "metadata": {
    "colab": {
     "base_uri": "https://localhost:8080/"
    },
    "id": "H4MhJEoUvCm0",
    "outputId": "31bfffe9-a098-4adf-9cf3-1c314fedf44d"
   },
   "outputs": [
    {
     "name": "stdout",
     "output_type": "stream",
     "text": [
      "313/313 [==============================] - 1s 3ms/step - loss: 0.0821 - accuracy: 0.9797\n",
      "test_acc =  0.9797000288963318\n"
     ]
    }
   ],
   "source": [
    "test_loss, test_acc = model.evaluate(test_images_cnn, test_labels_cat)\n",
    "print('test_acc = ',test_acc)"
   ]
  },
  {
   "cell_type": "code",
   "execution_count": 32,
   "metadata": {
    "colab": {
     "base_uri": "https://localhost:8080/"
    },
    "id": "bb0S4RHVjLR_",
    "outputId": "5b64ef08-5e48-4d93-fdaf-d5bbffb55eb4"
   },
   "outputs": [
    {
     "data": {
      "text/plain": [
       "array([[1.12172971e-14, 6.00583900e-14, 6.19183654e-12, 3.86925276e-05,\n",
       "        5.82968054e-14, 9.99961257e-01, 2.99259950e-09, 1.05425055e-13,\n",
       "        7.37482131e-10, 1.58613747e-10],\n",
       "       [1.00000000e+00, 7.96075180e-16, 1.23680413e-10, 2.50722647e-13,\n",
       "        7.51032212e-13, 4.09312578e-16, 1.51281626e-11, 4.87674036e-14,\n",
       "        4.41196949e-12, 2.44550602e-09],\n",
       "       [1.52992324e-11, 3.96192845e-05, 4.21142497e-04, 3.95623090e-09,\n",
       "        9.99533534e-01, 4.73178753e-11, 1.31196529e-07, 5.42798989e-06,\n",
       "        6.53552661e-08, 5.09692661e-08]], dtype=float32)"
      ]
     },
     "execution_count": 32,
     "metadata": {
      "tags": []
     },
     "output_type": "execute_result"
    }
   ],
   "source": [
    "model.predict(train_images_cnn[:3])"
   ]
  },
  {
   "cell_type": "code",
   "execution_count": 33,
   "metadata": {
    "colab": {
     "base_uri": "https://localhost:8080/"
    },
    "id": "WQutnaIBjT68",
    "outputId": "afef3c03-dbcd-4b26-d87a-1fec38e206e7"
   },
   "outputs": [
    {
     "data": {
      "text/plain": [
       "array([5, 0, 4])"
      ]
     },
     "execution_count": 33,
     "metadata": {
      "tags": []
     },
     "output_type": "execute_result"
    }
   ],
   "source": [
    "np.argmax(model.predict(train_images_cnn[:3]), axis=1)"
   ]
  },
  {
   "cell_type": "markdown",
   "metadata": {
    "id": "snRNbW4dv7cF"
   },
   "source": [
    "# (참고) MLP를 이용한  회귀 예측"
   ]
  },
  {
   "cell_type": "code",
   "execution_count": 35,
   "metadata": {
    "colab": {
     "base_uri": "https://localhost:8080/"
    },
    "id": "rNy5eSjPgbW3",
    "outputId": "e78f0537-ea3d-446c-b423-17f9f0249e53"
   },
   "outputs": [
    {
     "name": "stdout",
     "output_type": "stream",
     "text": [
      "Downloading data from https://storage.googleapis.com/tensorflow/tf-keras-datasets/boston_housing.npz\n",
      "57344/57026 [==============================] - 0s 0us/step\n",
      "(404, 13)\n"
     ]
    },
    {
     "data": {
      "text/plain": [
       "array([[1.23247e+00, 0.00000e+00, 8.14000e+00, 0.00000e+00, 5.38000e-01,\n",
       "        6.14200e+00, 9.17000e+01, 3.97690e+00, 4.00000e+00, 3.07000e+02,\n",
       "        2.10000e+01, 3.96900e+02, 1.87200e+01],\n",
       "       [2.17700e-02, 8.25000e+01, 2.03000e+00, 0.00000e+00, 4.15000e-01,\n",
       "        7.61000e+00, 1.57000e+01, 6.27000e+00, 2.00000e+00, 3.48000e+02,\n",
       "        1.47000e+01, 3.95380e+02, 3.11000e+00],\n",
       "       [4.89822e+00, 0.00000e+00, 1.81000e+01, 0.00000e+00, 6.31000e-01,\n",
       "        4.97000e+00, 1.00000e+02, 1.33250e+00, 2.40000e+01, 6.66000e+02,\n",
       "        2.02000e+01, 3.75520e+02, 3.26000e+00]])"
      ]
     },
     "execution_count": 35,
     "metadata": {
      "tags": []
     },
     "output_type": "execute_result"
    }
   ],
   "source": [
    "from keras.datasets import boston_housing\n",
    "(x_train, y_train), (x_test, y_test) = boston_housing.load_data()\n",
    "print(x_train.shape)\n",
    "\n",
    "x_train[:3]"
   ]
  },
  {
   "cell_type": "code",
   "execution_count": 37,
   "metadata": {
    "colab": {
     "base_uri": "https://localhost:8080/"
    },
    "id": "Tw2M-KNFgbW3",
    "outputId": "24e36bad-a997-4f6e-c5af-a4877b2d953b"
   },
   "outputs": [
    {
     "name": "stdout",
     "output_type": "stream",
     "text": [
      "Model: \"sequential_2\"\n",
      "_________________________________________________________________\n",
      "Layer (type)                 Output Shape              Param #   \n",
      "=================================================================\n",
      "dense_4 (Dense)              (None, 32)                448       \n",
      "_________________________________________________________________\n",
      "batch_normalization (BatchNo (None, 32)                128       \n",
      "_________________________________________________________________\n",
      "dense_5 (Dense)              (None, 16)                528       \n",
      "_________________________________________________________________\n",
      "batch_normalization_1 (Batch (None, 16)                64        \n",
      "_________________________________________________________________\n",
      "dropout (Dropout)            (None, 16)                0         \n",
      "_________________________________________________________________\n",
      "dense_6 (Dense)              (None, 1)                 17        \n",
      "=================================================================\n",
      "Total params: 1,185\n",
      "Trainable params: 1,089\n",
      "Non-trainable params: 96\n",
      "_________________________________________________________________\n"
     ]
    }
   ],
   "source": [
    "model = models.Sequential()\n",
    "model.add(layers.Dense(32, activation='relu', input_shape = (13,)))\n",
    "model.add(layers.BatchNormalization())\n",
    "model.add(layers.Dense(16, activation='relu'))\n",
    "model.add(layers.BatchNormalization())\n",
    "model.add(layers.Dropout(0.2))\n",
    "model.add(layers.Dense(1, activation='linear'))\n",
    "model.summary()"
   ]
  },
  {
   "cell_type": "code",
   "execution_count": 38,
   "metadata": {
    "colab": {
     "base_uri": "https://localhost:8080/"
    },
    "id": "_yGvkO2igbW4",
    "outputId": "e342f01b-89a1-43ed-e8d1-046fd208c69b"
   },
   "outputs": [
    {
     "name": "stdout",
     "output_type": "stream",
     "text": [
      "Epoch 1/32\n",
      "51/51 [==============================] - 1s 3ms/step - loss: 564.5105\n",
      "Epoch 2/32\n",
      "51/51 [==============================] - 0s 3ms/step - loss: 555.5033\n",
      "Epoch 3/32\n",
      "51/51 [==============================] - 0s 3ms/step - loss: 549.1380\n",
      "Epoch 4/32\n",
      "51/51 [==============================] - 0s 3ms/step - loss: 552.7486\n",
      "Epoch 5/32\n",
      "51/51 [==============================] - 0s 3ms/step - loss: 552.4536\n",
      "Epoch 6/32\n",
      "51/51 [==============================] - 0s 3ms/step - loss: 464.8878\n",
      "Epoch 7/32\n",
      "51/51 [==============================] - 0s 3ms/step - loss: 419.5520\n",
      "Epoch 8/32\n",
      "51/51 [==============================] - 0s 3ms/step - loss: 372.0489\n",
      "Epoch 9/32\n",
      "51/51 [==============================] - 0s 3ms/step - loss: 367.8768\n",
      "Epoch 10/32\n",
      "51/51 [==============================] - 0s 3ms/step - loss: 296.6314\n",
      "Epoch 11/32\n",
      "51/51 [==============================] - 0s 3ms/step - loss: 281.5601\n",
      "Epoch 12/32\n",
      "51/51 [==============================] - 0s 3ms/step - loss: 229.5137\n",
      "Epoch 13/32\n",
      "51/51 [==============================] - 0s 3ms/step - loss: 207.7496\n",
      "Epoch 14/32\n",
      "51/51 [==============================] - 0s 3ms/step - loss: 181.9511\n",
      "Epoch 15/32\n",
      "51/51 [==============================] - 0s 3ms/step - loss: 140.8155\n",
      "Epoch 16/32\n",
      "51/51 [==============================] - 0s 3ms/step - loss: 126.7767\n",
      "Epoch 17/32\n",
      "51/51 [==============================] - 0s 3ms/step - loss: 100.8474\n",
      "Epoch 18/32\n",
      "51/51 [==============================] - 0s 3ms/step - loss: 86.0770\n",
      "Epoch 19/32\n",
      "51/51 [==============================] - 0s 3ms/step - loss: 64.8634\n",
      "Epoch 20/32\n",
      "51/51 [==============================] - 0s 3ms/step - loss: 61.2025\n",
      "Epoch 21/32\n",
      "51/51 [==============================] - 0s 3ms/step - loss: 57.6227\n",
      "Epoch 22/32\n",
      "51/51 [==============================] - 0s 3ms/step - loss: 52.3432\n",
      "Epoch 23/32\n",
      "51/51 [==============================] - 0s 3ms/step - loss: 39.6755\n",
      "Epoch 24/32\n",
      "51/51 [==============================] - 0s 3ms/step - loss: 45.7352\n",
      "Epoch 25/32\n",
      "51/51 [==============================] - 0s 3ms/step - loss: 49.7099\n",
      "Epoch 26/32\n",
      "51/51 [==============================] - 0s 3ms/step - loss: 51.7422\n",
      "Epoch 27/32\n",
      "51/51 [==============================] - 0s 3ms/step - loss: 40.1654\n",
      "Epoch 28/32\n",
      "51/51 [==============================] - 0s 3ms/step - loss: 48.0006\n",
      "Epoch 29/32\n",
      "51/51 [==============================] - 0s 3ms/step - loss: 39.8358\n",
      "Epoch 30/32\n",
      "51/51 [==============================] - 0s 3ms/step - loss: 38.0579\n",
      "Epoch 31/32\n",
      "51/51 [==============================] - 0s 3ms/step - loss: 34.4113\n",
      "Epoch 32/32\n",
      "51/51 [==============================] - 0s 3ms/step - loss: 41.4022\n"
     ]
    }
   ],
   "source": [
    "model.compile(optimizer= 'adam', loss = 'mean_squared_error')\n",
    "history = model.fit(x_train, y_train, epochs=32, batch_size=8, verbose=1)"
   ]
  },
  {
   "cell_type": "code",
   "execution_count": 42,
   "metadata": {
    "colab": {
     "base_uri": "https://localhost:8080/"
    },
    "id": "QJyjZWnEgbW4",
    "outputId": "2deb9e53-5005-42db-ba11-591a49c99e1e"
   },
   "outputs": [
    {
     "data": {
      "text/plain": [
       "array([[ 5.4104795],\n",
       "       [17.70508  ],\n",
       "       [23.116293 ],\n",
       "       [25.728487 ],\n",
       "       [23.626768 ],\n",
       "       [19.791151 ],\n",
       "       [24.890017 ],\n",
       "       [23.799665 ],\n",
       "       [20.466646 ],\n",
       "       [17.061724 ]], dtype=float32)"
      ]
     },
     "execution_count": 42,
     "metadata": {
      "tags": []
     },
     "output_type": "execute_result"
    }
   ],
   "source": [
    "model.predict(x_test[:10])"
   ]
  },
  {
   "cell_type": "code",
   "execution_count": 43,
   "metadata": {
    "colab": {
     "base_uri": "https://localhost:8080/"
    },
    "id": "RmkvM_htgbW4",
    "outputId": "4d3cd095-fddf-4c79-b8bd-b0d4d49c5a70"
   },
   "outputs": [
    {
     "data": {
      "text/plain": [
       "array([ 7.2, 18.8, 19. , 27. , 22.2, 24.5, 31.2, 22.9, 20.5, 23.2])"
      ]
     },
     "execution_count": 43,
     "metadata": {
      "tags": []
     },
     "output_type": "execute_result"
    }
   ],
   "source": [
    "y_test[:10]"
   ]
  },
  {
   "cell_type": "code",
   "execution_count": 53,
   "metadata": {
    "colab": {
     "base_uri": "https://localhost:8080/",
     "height": 195
    },
    "id": "hTqXXw3Ikwlb",
    "outputId": "9cd80508-afbd-400f-cb85-976ab33fcf03"
   },
   "outputs": [
    {
     "data": {
      "text/html": [
       "<div>\n",
       "<style scoped>\n",
       "    .dataframe tbody tr th:only-of-type {\n",
       "        vertical-align: middle;\n",
       "    }\n",
       "\n",
       "    .dataframe tbody tr th {\n",
       "        vertical-align: top;\n",
       "    }\n",
       "\n",
       "    .dataframe thead th {\n",
       "        text-align: right;\n",
       "    }\n",
       "</style>\n",
       "<table border=\"1\" class=\"dataframe\">\n",
       "  <thead>\n",
       "    <tr style=\"text-align: right;\">\n",
       "      <th></th>\n",
       "      <th>y_pred</th>\n",
       "      <th>y_test</th>\n",
       "    </tr>\n",
       "  </thead>\n",
       "  <tbody>\n",
       "    <tr>\n",
       "      <th>0</th>\n",
       "      <td>5.410481</td>\n",
       "      <td>7.2</td>\n",
       "    </tr>\n",
       "    <tr>\n",
       "      <th>1</th>\n",
       "      <td>17.705080</td>\n",
       "      <td>18.8</td>\n",
       "    </tr>\n",
       "    <tr>\n",
       "      <th>2</th>\n",
       "      <td>23.116295</td>\n",
       "      <td>19.0</td>\n",
       "    </tr>\n",
       "    <tr>\n",
       "      <th>3</th>\n",
       "      <td>25.728481</td>\n",
       "      <td>27.0</td>\n",
       "    </tr>\n",
       "    <tr>\n",
       "      <th>4</th>\n",
       "      <td>23.626768</td>\n",
       "      <td>22.2</td>\n",
       "    </tr>\n",
       "  </tbody>\n",
       "</table>\n",
       "</div>"
      ],
      "text/plain": [
       "      y_pred  y_test\n",
       "0   5.410481     7.2\n",
       "1  17.705080    18.8\n",
       "2  23.116295    19.0\n",
       "3  25.728481    27.0\n",
       "4  23.626768    22.2"
      ]
     },
     "execution_count": 53,
     "metadata": {
      "tags": []
     },
     "output_type": "execute_result"
    }
   ],
   "source": [
    "import pandas as pd\n",
    "y_pred = model.predict(x_test).ravel()\n",
    "df = pd.DataFrame({'y_pred': y_pred, 'y_test':y_test})\n",
    "df[:5]"
   ]
  },
  {
   "cell_type": "code",
   "execution_count": 56,
   "metadata": {
    "colab": {
     "base_uri": "https://localhost:8080/"
    },
    "id": "VXRfHaYXliRd",
    "outputId": "be762dcd-29d4-46ec-baf8-cc3cfe2b6ccd"
   },
   "outputs": [
    {
     "data": {
      "text/plain": [
       "0.09123458483688496"
      ]
     },
     "execution_count": 56,
     "metadata": {
      "tags": []
     },
     "output_type": "execute_result"
    }
   ],
   "source": [
    "from sklearn.metrics import r2_score\n",
    "r2_score(y_test, y_pred)"
   ]
  },
  {
   "cell_type": "code",
   "execution_count": 57,
   "metadata": {
    "colab": {
     "base_uri": "https://localhost:8080/",
     "height": 285
    },
    "id": "riS3AIFdmQuG",
    "outputId": "f277a1b1-b172-47d4-948a-4007877c57d3"
   },
   "outputs": [
    {
     "data": {
      "text/plain": [
       "[<matplotlib.lines.Line2D at 0x7fcf8c3f2bd0>]"
      ]
     },
     "execution_count": 57,
     "metadata": {
      "tags": []
     },
     "output_type": "execute_result"
    },
    {
     "data": {
      "image/png": "[encoded data removed]",
      "text/plain": [
       "<Figure size 432x288 with 1 Axes>"
      ]
     },
     "metadata": {
      "image/png": {
       "height": 251,
       "width": 375
      },
      "needs_background": "light",
      "tags": []
     },
     "output_type": "display_data"
    }
   ],
   "source": [
    "import matplotlib.pyplot as plt\n",
    "plt.plot(y_pred, c='b')\n",
    "plt.plot(y_test, c='r')"
   ]
  },
  {
   "cell_type": "code",
   "execution_count": 60,
   "metadata": {
    "colab": {
     "base_uri": "https://localhost:8080/",
     "height": 282
    },
    "id": "9bLWjWm-mffS",
    "outputId": "971c970a-5e2b-4d24-bb47-fecfb279999d"
   },
   "outputs": [
    {
     "data": {
      "text/plain": [
       "<matplotlib.collections.PathCollection at 0x7fcf8c275550>"
      ]
     },
     "execution_count": 60,
     "metadata": {
      "tags": []
     },
     "output_type": "execute_result"
    },
    {
     "data": {
      "image/png": "[encoded data removed]",
      "text/plain": [
       "<Figure size 432x288 with 1 Axes>"
      ]
     },
     "metadata": {
      "image/png": {
       "height": 248,
       "width": 369
      },
      "needs_background": "light",
      "tags": []
     },
     "output_type": "display_data"
    }
   ],
   "source": [
    "plt.scatter(y_test, np.abs(y_test-y_pred), s=5)"
   ]
  },
  {
   "cell_type": "code",
   "execution_count": 64,
   "metadata": {
    "colab": {
     "base_uri": "https://localhost:8080/"
    },
    "id": "2-27KnmUgbW5",
    "outputId": "94d196d6-105f-46f9-888f-b4d4fce9690f"
   },
   "outputs": [
    {
     "data": {
      "text/plain": [
       "dict_keys(['loss'])"
      ]
     },
     "execution_count": 64,
     "metadata": {
      "tags": []
     },
     "output_type": "execute_result"
    }
   ],
   "source": [
    "history.history.keys()"
   ]
  },
  {
   "cell_type": "code",
   "execution_count": 62,
   "metadata": {
    "colab": {
     "base_uri": "https://localhost:8080/",
     "height": 268
    },
    "id": "sl9a38gPgbW5",
    "outputId": "34947c65-8f81-465b-bd6b-b0c7447732a8"
   },
   "outputs": [
    {
     "data": {
      "image/png": "[encoded data removed]",
      "text/plain": [
       "<Figure size 432x288 with 1 Axes>"
      ]
     },
     "metadata": {
      "image/png": {
       "height": 251,
       "width": 375
      },
      "needs_background": "light",
      "tags": []
     },
     "output_type": "display_data"
    }
   ],
   "source": [
    "loss = history.history['loss']\n",
    "epochs = range(1, len(loss)+1)\n",
    "plt.plot(epochs, loss, 'ro', label='Training loss')\n",
    "plt.legend()\n",
    "plt.show()"
   ]
  }
 ],
 "metadata": {
  "accelerator": "GPU",
  "colab": {
   "collapsed_sections": [],
   "include_colab_link": true,
   "name": "h_36_MLP_CNN_210418.ipynb",
   "provenance": []
  },
  "kernelspec": {
   "display_name": "Python 3",
   "language": "python",
   "name": "python3"
  },
  "language_info": {
   "codemirror_mode": {
    "name": "ipython",
    "version": 3
   },
   "file_extension": ".py",
   "mimetype": "text/x-python",
   "name": "python",
   "nbconvert_exporter": "python",
   "pygments_lexer": "ipython3",
   "version": "3.8.8"
  },
  "toc": {
   "base_numbering": 1,
   "nav_menu": {},
   "number_sections": false,
   "sideBar": true,
   "skip_h1_title": false,
   "title_cell": "Table of Contents",
   "title_sidebar": "Contents",
   "toc_cell": false,
   "toc_position": {},
   "toc_section_display": true,
   "toc_window_display": false
  }
 },
 "nbformat": 4,
 "nbformat_minor": 1
}
