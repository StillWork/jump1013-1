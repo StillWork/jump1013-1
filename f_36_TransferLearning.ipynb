{
 "cells": [
  {
   "cell_type": "markdown",
   "metadata": {
    "id": "YHK6DyunSbs4"
   },
   "source": [
    "# 전이학습 \n",
    "- 고양이 강아지 구분\n",
    "- VGG16 (2014)\n",
    " - 이미지넷으로 사전 훈련된 네트워크를 사용\n",
    " - 1000개의 객체를 구분하는 모델이나, 여기서는 고양이, 강아지 구분에 사용  \n",
    "\n",
    "- 1) 특성추출 방식\n",
    " - 합성곱 필터링 영역(convolutional base)를 그대로 사용\n",
    " - 공통되는 특성만 추출하여 사용한다\n",
    " - 전결합망 부분은 새로운 데이터 (고양이/강아지)로 학습을 다시 시킨다\n",
    "\n",
    "\n",
    "- 2) 미세 조정 방식\n"
   ]
  },
  {
   "cell_type": "markdown",
   "metadata": {
    "id": "UY6KJV6z6l7_"
   },
   "source": [
    "## 데이터 다운로드"
   ]
  },
  {
   "cell_type": "code",
   "execution_count": 3,
   "metadata": {
    "id": "BintRJjr1QvS"
   },
   "outputs": [],
   "source": [
    "import matplotlib.pyplot as plt\n",
    "%matplotlib inline\n",
    "%config InlineBackend.figure_format = 'retina'\n",
    "\n",
    "import os, os.path, shutil\n",
    "import zipfile\n",
    "import matplotlib.image as mpimg\n",
    "from keras.applications import VGG16"
   ]
  },
  {
   "cell_type": "markdown",
   "metadata": {
    "id": "mxOElr1tG82n"
   },
   "source": [
    "## VGG16으로 사전학습된 가중치 가져오기\n",
    "- include_top은 기존의 1000개 전결합망 분류기를 포함할지를 선택"
   ]
  },
  {
   "cell_type": "code",
   "execution_count": 4,
   "metadata": {
    "id": "39bxJu-BGL9N"
   },
   "outputs": [],
   "source": [
    "conv_base = VGG16(weights = 'imagenet',\n",
    "                 include_top=False,\n",
    "                 input_shape=(150, 150, 3))"
   ]
  },
  {
   "cell_type": "code",
   "execution_count": 5,
   "metadata": {
    "colab": {
     "base_uri": "https://localhost:8080/"
    },
    "id": "84MocF__GLuw",
    "outputId": "6d8faeb7-b912-4912-9f94-560accc38dd4"
   },
   "outputs": [
    {
     "name": "stdout",
     "output_type": "stream",
     "text": [
      "Model: \"vgg16\"\n",
      "_________________________________________________________________\n",
      "Layer (type)                 Output Shape              Param #   \n",
      "=================================================================\n",
      "input_2 (InputLayer)         [(None, 150, 150, 3)]     0         \n",
      "_________________________________________________________________\n",
      "block1_conv1 (Conv2D)        (None, 150, 150, 64)      1792      \n",
      "_________________________________________________________________\n",
      "block1_conv2 (Conv2D)        (None, 150, 150, 64)      36928     \n",
      "_________________________________________________________________\n",
      "block1_pool (MaxPooling2D)   (None, 75, 75, 64)        0         \n",
      "_________________________________________________________________\n",
      "block2_conv1 (Conv2D)        (None, 75, 75, 128)       73856     \n",
      "_________________________________________________________________\n",
      "block2_conv2 (Conv2D)        (None, 75, 75, 128)       147584    \n",
      "_________________________________________________________________\n",
      "block2_pool (MaxPooling2D)   (None, 37, 37, 128)       0         \n",
      "_________________________________________________________________\n",
      "block3_conv1 (Conv2D)        (None, 37, 37, 256)       295168    \n",
      "_________________________________________________________________\n",
      "block3_conv2 (Conv2D)        (None, 37, 37, 256)       590080    \n",
      "_________________________________________________________________\n",
      "block3_conv3 (Conv2D)        (None, 37, 37, 256)       590080    \n",
      "_________________________________________________________________\n",
      "block3_pool (MaxPooling2D)   (None, 18, 18, 256)       0         \n",
      "_________________________________________________________________\n",
      "block4_conv1 (Conv2D)        (None, 18, 18, 512)       1180160   \n",
      "_________________________________________________________________\n",
      "block4_conv2 (Conv2D)        (None, 18, 18, 512)       2359808   \n",
      "_________________________________________________________________\n",
      "block4_conv3 (Conv2D)        (None, 18, 18, 512)       2359808   \n",
      "_________________________________________________________________\n",
      "block4_pool (MaxPooling2D)   (None, 9, 9, 512)         0         \n",
      "_________________________________________________________________\n",
      "block5_conv1 (Conv2D)        (None, 9, 9, 512)         2359808   \n",
      "_________________________________________________________________\n",
      "block5_conv2 (Conv2D)        (None, 9, 9, 512)         2359808   \n",
      "_________________________________________________________________\n",
      "block5_conv3 (Conv2D)        (None, 9, 9, 512)         2359808   \n",
      "_________________________________________________________________\n",
      "block5_pool (MaxPooling2D)   (None, 4, 4, 512)         0         \n",
      "=================================================================\n",
      "Total params: 14,714,688\n",
      "Trainable params: 14,714,688\n",
      "Non-trainable params: 0\n",
      "_________________________________________________________________\n"
     ]
    }
   ],
   "source": [
    "conv_base.summary()"
   ]
  },
  {
   "cell_type": "markdown",
   "metadata": {
    "id": "wLStHmXaMqja"
   },
   "source": [
    "## 두가지 옵션이 가능하다\n",
    "### 1) 합성곱 기반을 통과한 출력을 저장한 후 이를 전결합망에 통과\n",
    "- 데이터 확장은 사용할 수 없다\n",
    "- 실행이 빠르다\n",
    "\n",
    "### 2) 모델에 Dense망을 추가하고 학습을 수행\n",
    "- 데이터 확장을 사용할 수 있다.\n",
    "- 비용이 많이 든다\n",
    "\n",
    "\n",
    "### 1) 방식을 먼저 수행한다.\n"
   ]
  },
  {
   "cell_type": "markdown",
   "metadata": {
    "id": "kkMqucDvN0Qy"
   },
   "source": [
    "### 데이터 읽기"
   ]
  },
  {
   "cell_type": "code",
   "execution_count": 6,
   "metadata": {
    "colab": {
     "base_uri": "https://localhost:8080/"
    },
    "id": "JHHE2t4yxpMU",
    "outputId": "9c7d448f-4f64-486f-d0cf-fe41e391e62c"
   },
   "outputs": [
    {
     "name": "stdout",
     "output_type": "stream",
     "text": [
      "  % Total    % Received % Xferd  Average Speed   Time    Time     Time  Current\n",
      "                                 Dload  Upload   Total   Spent    Left  Speed\n",
      "100 65.4M  100 65.4M    0     0  99.2M      0 --:--:-- --:--:-- --:--:-- 99.2M\n"
     ]
    }
   ],
   "source": [
    "!curl -L \\\n",
    "    https://storage.googleapis.com/mledu-datasets/cats_and_dogs_filtered.zip \\\n",
    "    -o ./cats_and_dogs_filtered.zip"
   ]
  },
  {
   "cell_type": "code",
   "execution_count": 7,
   "metadata": {
    "id": "PLy3pthUS0D2"
   },
   "outputs": [],
   "source": [
    "!unzip -q cats_and_dogs_filtered.zip"
   ]
  },
  {
   "cell_type": "code",
   "execution_count": 8,
   "metadata": {
    "id": "MLZKVtE0dSfk"
   },
   "outputs": [],
   "source": [
    "base_dir = './cats_and_dogs_filtered'\n",
    "train_dir = os.path.join(base_dir, 'train')\n",
    "validation_dir = os.path.join(base_dir, 'validation')"
   ]
  },
  {
   "cell_type": "code",
   "execution_count": 9,
   "metadata": {
    "colab": {
     "base_uri": "https://localhost:8080/",
     "height": 36
    },
    "id": "I-gqmVtXI1If",
    "outputId": "ac5e8914-7ad8-4d74-e745-17809c585fad"
   },
   "outputs": [
    {
     "data": {
      "application/vnd.google.colaboratory.intrinsic+json": {
       "type": "string"
      },
      "text/plain": [
       "'./cats_and_dogs_filtered/train'"
      ]
     },
     "execution_count": 9,
     "metadata": {
      "tags": []
     },
     "output_type": "execute_result"
    }
   ],
   "source": [
    "train_dir"
   ]
  },
  {
   "cell_type": "markdown",
   "metadata": {
    "id": "5oqBkNBJmtUv"
   },
   "source": [
    "## 특성추출만 사용한 모델 (데이터 증식은 사용하지 않는 방식)\n",
    "- ImageDataGenerator를 사용하여 이미지와 레이블을 생성\n",
    "- conv_base 모델의 predict를 사용하여 이미지의 특성을 추출\n",
    "- 마지막 출력의 크기가 (4, 4, 512)이다.\n"
   ]
  },
  {
   "cell_type": "code",
   "execution_count": 10,
   "metadata": {
    "id": "IYVLSfbsbf9K"
   },
   "outputs": [],
   "source": [
    "from keras import layers\n",
    "from keras import models\n",
    "from keras import optimizers\n",
    "from keras.preprocessing import image\n",
    "from keras.preprocessing.image import ImageDataGenerator\n",
    "import numpy as np "
   ]
  },
  {
   "cell_type": "code",
   "execution_count": 11,
   "metadata": {
    "colab": {
     "base_uri": "https://localhost:8080/"
    },
    "id": "zKpFv6lSGmtR",
    "outputId": "9247ccf0-a3fd-477d-b721-d0e446a81b23"
   },
   "outputs": [
    {
     "name": "stdout",
     "output_type": "stream",
     "text": [
      "Found 2000 images belonging to 2 classes.\n",
      "Found 1000 images belonging to 2 classes.\n",
      "Model: \"sequential\"\n",
      "_________________________________________________________________\n",
      "Layer (type)                 Output Shape              Param #   \n",
      "=================================================================\n",
      "dense (Dense)                (None, 512)               4194816   \n",
      "_________________________________________________________________\n",
      "dropout (Dropout)            (None, 512)               0         \n",
      "_________________________________________________________________\n",
      "dense_1 (Dense)              (None, 1)                 513       \n",
      "=================================================================\n",
      "Total params: 4,195,329\n",
      "Trainable params: 4,195,329\n",
      "Non-trainable params: 0\n",
      "_________________________________________________________________\n"
     ]
    }
   ],
   "source": [
    "img_width = 150\n",
    "img_height = 150\n",
    "batch_size=20\n",
    "\n",
    "datagen = ImageDataGenerator(rescale = 1./255)\n",
    "\n",
    "def extract_features(directory, sample_count):\n",
    "  features = np.zeros(shape=(sample_count, 4, 4, 512))\n",
    "  labels = np.zeros(shape=(sample_count))\n",
    "  generator = datagen.flow_from_directory(\n",
    "      directory,\n",
    " \t    target_size=(img_width,img_height),\n",
    "      class_mode='binary',\n",
    "\t\t\tbatch_size=batch_size)\n",
    "  i=1\n",
    "  for inputs_batch, labels_batch in generator:\n",
    "    features_batch = conv_base.predict(inputs_batch)\n",
    "    features[i*batch_size:(i+1)*batch_size] = features_batch\n",
    "    labels[i*batch_size:(i+1)*batch_size] = labels_batch\n",
    "    i += 1\n",
    "    if i* batch_size >= sample_count:\n",
    "      break\n",
    "  return features, labels\n",
    "\n",
    "train_features, train_labels = extract_features(train_dir, 2000)\n",
    "validation_features, validation_labels = extract_features(validation_dir, 1000)\n",
    "\n",
    "train_features = np.reshape(train_features, (2000, 4*4*512))\n",
    "validation_features = np.reshape(validation_features, (1000, 4*4*512))\n",
    "\n",
    "    \n",
    "model = models.Sequential()\n",
    "\n",
    "model.add(layers.Dense(512, activation='relu', input_dim= 4*4*512))\n",
    "model.add(layers.Dropout(0.5))\n",
    "model.add(layers.Dense(1, activation='sigmoid'))\n",
    "\n",
    "model.summary()"
   ]
  },
  {
   "cell_type": "code",
   "execution_count": 12,
   "metadata": {
    "colab": {
     "base_uri": "https://localhost:8080/"
    },
    "id": "hxITBhxQDwkd",
    "outputId": "1eb29ee9-f8f6-4125-b335-20826280facf"
   },
   "outputs": [
    {
     "name": "stdout",
     "output_type": "stream",
     "text": [
      "Epoch 1/30\n",
      "100/100 [==============================] - 1s 8ms/step - loss: 0.6612 - accuracy: 0.6017 - val_loss: 0.4118 - val_accuracy: 0.8370\n",
      "Epoch 2/30\n",
      "100/100 [==============================] - 0s 5ms/step - loss: 0.3997 - accuracy: 0.8244 - val_loss: 0.3379 - val_accuracy: 0.8650\n",
      "Epoch 3/30\n",
      "100/100 [==============================] - 0s 4ms/step - loss: 0.3202 - accuracy: 0.8808 - val_loss: 0.3101 - val_accuracy: 0.8760\n",
      "Epoch 4/30\n",
      "100/100 [==============================] - 0s 5ms/step - loss: 0.2831 - accuracy: 0.8811 - val_loss: 0.3096 - val_accuracy: 0.8800\n",
      "Epoch 5/30\n",
      "100/100 [==============================] - 0s 5ms/step - loss: 0.2670 - accuracy: 0.8919 - val_loss: 0.2936 - val_accuracy: 0.8690\n",
      "Epoch 6/30\n",
      "100/100 [==============================] - 0s 5ms/step - loss: 0.2412 - accuracy: 0.9109 - val_loss: 0.2832 - val_accuracy: 0.8770\n",
      "Epoch 7/30\n",
      "100/100 [==============================] - 0s 5ms/step - loss: 0.2170 - accuracy: 0.9122 - val_loss: 0.2751 - val_accuracy: 0.8850\n",
      "Epoch 8/30\n",
      "100/100 [==============================] - 0s 5ms/step - loss: 0.2106 - accuracy: 0.9235 - val_loss: 0.2722 - val_accuracy: 0.8830\n",
      "Epoch 9/30\n",
      "100/100 [==============================] - 0s 4ms/step - loss: 0.1933 - accuracy: 0.9320 - val_loss: 0.2807 - val_accuracy: 0.8740\n",
      "Epoch 10/30\n",
      "100/100 [==============================] - 0s 5ms/step - loss: 0.1876 - accuracy: 0.9333 - val_loss: 0.2753 - val_accuracy: 0.8740\n",
      "Epoch 11/30\n",
      "100/100 [==============================] - 0s 5ms/step - loss: 0.1661 - accuracy: 0.9429 - val_loss: 0.2750 - val_accuracy: 0.8930\n",
      "Epoch 12/30\n",
      "100/100 [==============================] - 0s 4ms/step - loss: 0.1516 - accuracy: 0.9463 - val_loss: 0.2653 - val_accuracy: 0.8890\n",
      "Epoch 13/30\n",
      "100/100 [==============================] - 0s 5ms/step - loss: 0.1552 - accuracy: 0.9453 - val_loss: 0.2652 - val_accuracy: 0.8880\n",
      "Epoch 14/30\n",
      "100/100 [==============================] - 0s 4ms/step - loss: 0.1488 - accuracy: 0.9524 - val_loss: 0.2648 - val_accuracy: 0.8850\n",
      "Epoch 15/30\n",
      "100/100 [==============================] - 0s 5ms/step - loss: 0.1311 - accuracy: 0.9567 - val_loss: 0.2761 - val_accuracy: 0.8900\n",
      "Epoch 16/30\n",
      "100/100 [==============================] - 0s 4ms/step - loss: 0.1366 - accuracy: 0.9561 - val_loss: 0.2699 - val_accuracy: 0.8930\n",
      "Epoch 17/30\n",
      "100/100 [==============================] - 0s 5ms/step - loss: 0.1144 - accuracy: 0.9640 - val_loss: 0.2658 - val_accuracy: 0.8880\n",
      "Epoch 18/30\n",
      "100/100 [==============================] - 0s 5ms/step - loss: 0.1146 - accuracy: 0.9608 - val_loss: 0.2809 - val_accuracy: 0.8900\n",
      "Epoch 19/30\n",
      "100/100 [==============================] - 0s 5ms/step - loss: 0.1128 - accuracy: 0.9649 - val_loss: 0.2656 - val_accuracy: 0.8910\n",
      "Epoch 20/30\n",
      "100/100 [==============================] - 0s 5ms/step - loss: 0.0989 - accuracy: 0.9705 - val_loss: 0.2821 - val_accuracy: 0.8800\n",
      "Epoch 21/30\n",
      "100/100 [==============================] - 0s 5ms/step - loss: 0.0975 - accuracy: 0.9713 - val_loss: 0.2690 - val_accuracy: 0.8890\n",
      "Epoch 22/30\n",
      "100/100 [==============================] - 0s 5ms/step - loss: 0.0858 - accuracy: 0.9706 - val_loss: 0.2689 - val_accuracy: 0.8900\n",
      "Epoch 23/30\n",
      "100/100 [==============================] - 0s 5ms/step - loss: 0.0879 - accuracy: 0.9729 - val_loss: 0.2734 - val_accuracy: 0.8920\n",
      "Epoch 24/30\n",
      "100/100 [==============================] - 0s 5ms/step - loss: 0.0829 - accuracy: 0.9819 - val_loss: 0.2712 - val_accuracy: 0.8940\n",
      "Epoch 25/30\n",
      "100/100 [==============================] - 0s 5ms/step - loss: 0.0772 - accuracy: 0.9831 - val_loss: 0.2701 - val_accuracy: 0.8920\n",
      "Epoch 26/30\n",
      "100/100 [==============================] - 0s 5ms/step - loss: 0.0702 - accuracy: 0.9821 - val_loss: 0.2723 - val_accuracy: 0.8910\n",
      "Epoch 27/30\n",
      "100/100 [==============================] - 0s 5ms/step - loss: 0.0702 - accuracy: 0.9863 - val_loss: 0.2735 - val_accuracy: 0.8950\n",
      "Epoch 28/30\n",
      "100/100 [==============================] - 0s 5ms/step - loss: 0.0661 - accuracy: 0.9859 - val_loss: 0.2738 - val_accuracy: 0.8920\n",
      "Epoch 29/30\n",
      "100/100 [==============================] - 0s 4ms/step - loss: 0.0704 - accuracy: 0.9878 - val_loss: 0.2805 - val_accuracy: 0.8890\n",
      "Epoch 30/30\n",
      "100/100 [==============================] - 0s 5ms/step - loss: 0.0636 - accuracy: 0.9874 - val_loss: 0.2842 - val_accuracy: 0.8920\n"
     ]
    }
   ],
   "source": [
    "model.compile(loss='binary_crossentropy',\n",
    "              optimizer=optimizers.RMSprop(lr=2e-5),\n",
    "              metrics=['accuracy'])\n",
    "history = model.fit(\n",
    "    train_features, train_labels,\n",
    "    epochs=30,\n",
    "    validation_data= (validation_features, validation_labels),\n",
    "    batch_size=batch_size)"
   ]
  },
  {
   "cell_type": "markdown",
   "metadata": {
    "id": "Q5Vulban4ZrD"
   },
   "source": [
    "## 성능 확인"
   ]
  },
  {
   "cell_type": "code",
   "execution_count": 13,
   "metadata": {
    "colab": {
     "base_uri": "https://localhost:8080/",
     "height": 561
    },
    "id": "0oj0gTIy4k60",
    "outputId": "05185bac-f3c3-4910-8a97-7f4dbc92328b"
   },
   "outputs": [
    {
     "data": {
      "text/plain": [
       "Text(0.5, 1.0, 'Training(--) and validation loss')"
      ]
     },
     "execution_count": 13,
     "metadata": {
      "tags": []
     },
     "output_type": "execute_result"
    },
    {
     "data": {
      "image/png": "[encoded data removed]",
      "text/plain": [
       "<Figure size 432x288 with 1 Axes>"
      ]
     },
     "metadata": {
      "image/png": {
       "height": 263,
       "width": 380
      },
      "needs_background": "light",
      "tags": []
     },
     "output_type": "display_data"
    },
    {
     "data": {
      "image/png": "[encoded data removed]",
      "text/plain": [
       "<Figure size 432x288 with 1 Axes>"
      ]
     },
     "metadata": {
      "image/png": {
       "height": 263,
       "width": 373
      },
      "needs_background": "light",
      "tags": []
     },
     "output_type": "display_data"
    }
   ],
   "source": [
    "acc = history.history['accuracy']\n",
    "val_acc = history.history['val_accuracy']\n",
    "\n",
    "loss = history.history['loss']\n",
    "val_loss = history.history['val_loss']\n",
    "\n",
    "epochs = range(len(acc))\n",
    "\n",
    "plt.plot(epochs, acc, '--')\n",
    "plt.plot(epochs, val_acc)\n",
    "plt.title('Training(--) and validation accuracy')\n",
    "\n",
    "plt.figure()\n",
    "plt.plot(epochs, loss,  '--')\n",
    "plt.plot(epochs, val_loss)\n",
    "plt.title('Training(--) and validation loss')"
   ]
  },
  {
   "cell_type": "markdown",
   "metadata": {
    "id": "DgmSjUST4qoS"
   },
   "source": [
    "### 과대적합이 발생한 것을 알 수 있다.\n",
    "- 훈련 데이터가 부족하다\n",
    "- 데이터 확장을 사용하여 개선할 수 있다."
   ]
  },
  {
   "cell_type": "markdown",
   "metadata": {
    "id": "zY8xC3RKIMjf"
   },
   "source": [
    "### 2) 모델에 Dense망을 추가하고 학습을 수행\n",
    "- 데이터 확장을 사용할 수 있다.\n",
    "- 비용이 많이 든다\n",
    "- 엔드-투-엔드로 실행한다"
   ]
  },
  {
   "cell_type": "code",
   "execution_count": 14,
   "metadata": {
    "colab": {
     "base_uri": "https://localhost:8080/"
    },
    "id": "dEPZtbjoYyko",
    "outputId": "68443d27-7b05-4509-ee08-bae44b90f28f"
   },
   "outputs": [
    {
     "name": "stdout",
     "output_type": "stream",
     "text": [
      "Model: \"sequential_1\"\n",
      "_________________________________________________________________\n",
      "Layer (type)                 Output Shape              Param #   \n",
      "=================================================================\n",
      "vgg16 (Functional)           (None, 4, 4, 512)         14714688  \n",
      "_________________________________________________________________\n",
      "flatten (Flatten)            (None, 8192)              0         \n",
      "_________________________________________________________________\n",
      "dense_2 (Dense)              (None, 256)               2097408   \n",
      "_________________________________________________________________\n",
      "dense_3 (Dense)              (None, 1)                 257       \n",
      "=================================================================\n",
      "Total params: 16,812,353\n",
      "Trainable params: 16,812,353\n",
      "Non-trainable params: 0\n",
      "_________________________________________________________________\n"
     ]
    }
   ],
   "source": [
    "# 모델\n",
    "\n",
    "model = models.Sequential()\n",
    "model.add(conv_base)\n",
    "\n",
    "model.add(layers.Flatten())\n",
    "model.add(layers.Dense(256, activation='relu'))\n",
    "model.add(layers.Dense(1, activation='sigmoid'))\n",
    "\n",
    "model.summary()"
   ]
  },
  {
   "cell_type": "markdown",
   "metadata": {
    "id": "cRwp7DKRZNey"
   },
   "source": [
    "## 학습을 동결하지 않으면 모두 재 학습된다!"
   ]
  },
  {
   "cell_type": "code",
   "execution_count": 15,
   "metadata": {
    "id": "1I-bJVROjbEi"
   },
   "outputs": [],
   "source": [
    "conv_base.trainable = False"
   ]
  },
  {
   "cell_type": "code",
   "execution_count": 16,
   "metadata": {
    "colab": {
     "base_uri": "https://localhost:8080/"
    },
    "id": "MN5_TfDJjisU",
    "outputId": "7b491356-9ed8-4855-d17e-eea73fb633bb"
   },
   "outputs": [
    {
     "name": "stdout",
     "output_type": "stream",
     "text": [
      "4\n"
     ]
    }
   ],
   "source": [
    "print(len(model.trainable_weights))"
   ]
  },
  {
   "cell_type": "code",
   "execution_count": 17,
   "metadata": {
    "colab": {
     "base_uri": "https://localhost:8080/"
    },
    "id": "OUz97nA0jr_y",
    "outputId": "5c15d263-0eb4-4e3a-c87e-ac43d810576e"
   },
   "outputs": [
    {
     "name": "stdout",
     "output_type": "stream",
     "text": [
      "Model: \"sequential_1\"\n",
      "_________________________________________________________________\n",
      "Layer (type)                 Output Shape              Param #   \n",
      "=================================================================\n",
      "vgg16 (Functional)           (None, 4, 4, 512)         14714688  \n",
      "_________________________________________________________________\n",
      "flatten (Flatten)            (None, 8192)              0         \n",
      "_________________________________________________________________\n",
      "dense_2 (Dense)              (None, 256)               2097408   \n",
      "_________________________________________________________________\n",
      "dense_3 (Dense)              (None, 1)                 257       \n",
      "=================================================================\n",
      "Total params: 16,812,353\n",
      "Trainable params: 2,097,665\n",
      "Non-trainable params: 14,714,688\n",
      "_________________________________________________________________\n"
     ]
    }
   ],
   "source": [
    "model.summary()"
   ]
  },
  {
   "cell_type": "markdown",
   "metadata": {
    "id": "E68OZRcKkQoU"
   },
   "source": [
    "### 컴파일을 수행해야 변경사항이 적용된다"
   ]
  },
  {
   "cell_type": "code",
   "execution_count": 18,
   "metadata": {
    "colab": {
     "base_uri": "https://localhost:8080/"
    },
    "id": "uG0pDWWMHKkk",
    "outputId": "90cd019b-e67c-4ff2-994b-88beb4af2138"
   },
   "outputs": [
    {
     "name": "stdout",
     "output_type": "stream",
     "text": [
      "Found 2000 images belonging to 2 classes.\n",
      "Found 1000 images belonging to 2 classes.\n"
     ]
    }
   ],
   "source": [
    "train_datagen = ImageDataGenerator(\n",
    "  rescale= 1./255,\n",
    "  rotation_range = 40,\n",
    "  width_shift_range = 0.2,\n",
    "  height_shift_range = 0.2,\n",
    "  shear_range=0.2,\n",
    "  zoom_range=0.2,\n",
    "  horizontal_flip = True,\n",
    "  fill_mode='nearest')\n",
    "\n",
    "validation_datagen = ImageDataGenerator(rescale = 1./255)\n",
    "\n",
    "train_generator = train_datagen.flow_from_directory(directory=train_dir,\n",
    "\t\t\t\t\t\t\t\t\t\t\t   target_size=(img_width,img_height),\n",
    "\t\t\t\t\t\t\t\t\t\t\t   class_mode='binary',\n",
    "\t\t\t\t\t\t\t\t\t\t\t   batch_size=20)\n",
    "\n",
    "validation_generator = validation_datagen.flow_from_directory(directory=validation_dir,\n",
    "\t\t\t\t\t\t\t\t\t\t\t   target_size=(img_width,img_height),\n",
    "\t\t\t\t\t\t\t\t\t\t\t   class_mode='binary',\n",
    "\t\t\t\t\t\t\t\t\t\t\t   batch_size=20)\n",
    "\n",
    "\n"
   ]
  },
  {
   "cell_type": "markdown",
   "metadata": {
    "id": "PNj36PXplaCx"
   },
   "source": [
    "### 과대적합이 줄어든 것을 볼 수 있다."
   ]
  },
  {
   "cell_type": "code",
   "execution_count": null,
   "metadata": {
    "colab": {
     "base_uri": "https://localhost:8080/"
    },
    "id": "Cpgy1ZUjHKhU",
    "outputId": "cde9ecd7-a716-498b-a44d-1a70fdf3b4f6"
   },
   "outputs": [
    {
     "name": "stderr",
     "output_type": "stream",
     "text": [
      "/usr/local/lib/python3.7/dist-packages/tensorflow/python/keras/engine/training.py:1844: UserWarning: `Model.fit_generator` is deprecated and will be removed in a future version. Please use `Model.fit`, which supports generators.\n",
      "  warnings.warn('`Model.fit_generator` is deprecated and '\n"
     ]
    },
    {
     "name": "stdout",
     "output_type": "stream",
     "text": [
      "Epoch 1/30\n",
      "100/100 [==============================] - 20s 194ms/step - loss: 0.6450 - accuracy: 0.6408 - val_loss: 0.4531 - val_accuracy: 0.8080\n",
      "Epoch 2/30\n",
      "100/100 [==============================] - 19s 191ms/step - loss: 0.5113 - accuracy: 0.7527 - val_loss: 0.3798 - val_accuracy: 0.8490\n",
      "Epoch 3/30\n",
      "100/100 [==============================] - 19s 191ms/step - loss: 0.4499 - accuracy: 0.7936 - val_loss: 0.3496 - val_accuracy: 0.8520\n",
      "Epoch 4/30\n",
      "100/100 [==============================] - 19s 191ms/step - loss: 0.4151 - accuracy: 0.8273 - val_loss: 0.3301 - val_accuracy: 0.8530\n",
      "Epoch 5/30\n",
      "100/100 [==============================] - 19s 190ms/step - loss: 0.3779 - accuracy: 0.8406 - val_loss: 0.3203 - val_accuracy: 0.8620\n",
      "Epoch 6/30\n",
      "100/100 [==============================] - 19s 191ms/step - loss: 0.3684 - accuracy: 0.8465 - val_loss: 0.3023 - val_accuracy: 0.8630\n",
      "Epoch 7/30\n",
      "100/100 [==============================] - 19s 190ms/step - loss: 0.3664 - accuracy: 0.8343 - val_loss: 0.3131 - val_accuracy: 0.8700\n",
      "Epoch 8/30\n",
      "100/100 [==============================] - 19s 190ms/step - loss: 0.3615 - accuracy: 0.8394 - val_loss: 0.2908 - val_accuracy: 0.8820\n",
      "Epoch 9/30\n",
      "100/100 [==============================] - 19s 190ms/step - loss: 0.3482 - accuracy: 0.8441 - val_loss: 0.2930 - val_accuracy: 0.8780\n",
      "Epoch 10/30\n",
      "100/100 [==============================] - 19s 192ms/step - loss: 0.3521 - accuracy: 0.8440 - val_loss: 0.2832 - val_accuracy: 0.8720\n",
      "Epoch 11/30\n",
      "100/100 [==============================] - 19s 192ms/step - loss: 0.3298 - accuracy: 0.8585 - val_loss: 0.2747 - val_accuracy: 0.8770\n",
      "Epoch 12/30\n",
      "100/100 [==============================] - 19s 190ms/step - loss: 0.3313 - accuracy: 0.8524 - val_loss: 0.2803 - val_accuracy: 0.8900\n",
      "Epoch 13/30\n",
      "100/100 [==============================] - 19s 189ms/step - loss: 0.3128 - accuracy: 0.8585 - val_loss: 0.2695 - val_accuracy: 0.8840\n",
      "Epoch 14/30\n",
      "100/100 [==============================] - 19s 190ms/step - loss: 0.3332 - accuracy: 0.8538 - val_loss: 0.2650 - val_accuracy: 0.8820\n",
      "Epoch 15/30\n",
      "100/100 [==============================] - 19s 188ms/step - loss: 0.3474 - accuracy: 0.8442 - val_loss: 0.2701 - val_accuracy: 0.8880\n",
      "Epoch 16/30\n",
      "100/100 [==============================] - 19s 187ms/step - loss: 0.3123 - accuracy: 0.8547 - val_loss: 0.2685 - val_accuracy: 0.8960\n",
      "Epoch 17/30\n",
      "100/100 [==============================] - 19s 188ms/step - loss: 0.3148 - accuracy: 0.8643 - val_loss: 0.2674 - val_accuracy: 0.8970\n",
      "Epoch 18/30\n",
      "100/100 [==============================] - 19s 188ms/step - loss: 0.3185 - accuracy: 0.8453 - val_loss: 0.2605 - val_accuracy: 0.8900\n",
      "Epoch 19/30\n",
      "100/100 [==============================] - 19s 187ms/step - loss: 0.2824 - accuracy: 0.8803 - val_loss: 0.3054 - val_accuracy: 0.8760\n",
      "Epoch 20/30\n",
      "100/100 [==============================] - 19s 187ms/step - loss: 0.3174 - accuracy: 0.8536 - val_loss: 0.2559 - val_accuracy: 0.8890\n",
      "Epoch 21/30\n",
      "100/100 [==============================] - 19s 186ms/step - loss: 0.2858 - accuracy: 0.8737 - val_loss: 0.2683 - val_accuracy: 0.8950\n",
      "Epoch 22/30\n",
      "100/100 [==============================] - 19s 186ms/step - loss: 0.3190 - accuracy: 0.8536 - val_loss: 0.2626 - val_accuracy: 0.8900\n",
      "Epoch 23/30\n",
      "100/100 [==============================] - 19s 186ms/step - loss: 0.2918 - accuracy: 0.8728 - val_loss: 0.2765 - val_accuracy: 0.8950\n",
      "Epoch 24/30\n",
      "100/100 [==============================] - 19s 187ms/step - loss: 0.3323 - accuracy: 0.8660 - val_loss: 0.2519 - val_accuracy: 0.8930\n",
      "Epoch 25/30\n",
      "100/100 [==============================] - 19s 185ms/step - loss: 0.2730 - accuracy: 0.8744 - val_loss: 0.2738 - val_accuracy: 0.8950\n",
      "Epoch 26/30\n",
      "100/100 [==============================] - 19s 185ms/step - loss: 0.3035 - accuracy: 0.8604 - val_loss: 0.2601 - val_accuracy: 0.8990\n",
      "Epoch 27/30\n",
      "  8/100 [=>............................] - ETA: 13s - loss: 0.2658 - accuracy: 0.9051"
     ]
    }
   ],
   "source": [
    "model.compile(loss='binary_crossentropy',\n",
    "              optimizer=optimizers.RMSprop(lr=2e-5),\n",
    "              metrics=['accuracy'])\n",
    "\n",
    "\n",
    "history = model.fit_generator(\n",
    "    generator=train_generator, \n",
    "    steps_per_epoch=100,\n",
    "    epochs=30,\n",
    "    validation_data=validation_generator,\n",
    "    validation_steps=50)"
   ]
  },
  {
   "cell_type": "code",
   "execution_count": null,
   "metadata": {
    "id": "5d1NMELUHKd-"
   },
   "outputs": [],
   "source": [
    "acc = history.history['accuracy']\n",
    "val_acc = history.history['val_accuracy']\n",
    "\n",
    "loss = history.history['loss']\n",
    "val_loss = history.history['val_loss']\n",
    "\n",
    "epochs = range(len(acc))\n",
    "\n",
    "plt.plot(epochs, acc, '--')\n",
    "plt.plot(epochs, val_acc)\n",
    "plt.title('Training(--) and validation accuracy')\n",
    "\n",
    "plt.figure()\n",
    "plt.plot(epochs, loss,  '--')\n",
    "plt.plot(epochs, val_loss)\n",
    "plt.title('Training(--) and validation loss')"
   ]
  },
  {
   "cell_type": "markdown",
   "metadata": {
    "id": "0qC0I1Xglvbp"
   },
   "source": [
    "## 미세조정 방법\n",
    "- 상위 계층 몇개를 재학습시킨다\n",
    "- 앞에서 소개한 절차, 즉, 전결합망(top)부분을 먼저 학습시킨 후에 상위계층의 미세조정을 해야 한다 (한번에 학습하면 안되고 두 단계로 나누어야 함)\n",
    "\n",
    "         "
   ]
  },
  {
   "cell_type": "code",
   "execution_count": null,
   "metadata": {
    "id": "t5XAI5qT2M8W"
   },
   "outputs": [],
   "source": [
    "conv_base.summary()"
   ]
  },
  {
   "cell_type": "markdown",
   "metadata": {
    "id": "RAUd8YyW2blO"
   },
   "source": [
    "### 위에서 block 5 부분만 미세조정 하겠다"
   ]
  },
  {
   "cell_type": "code",
   "execution_count": null,
   "metadata": {
    "id": "pEVEbvcW2TBl"
   },
   "outputs": [],
   "source": [
    "conv_base.trainable = True\n",
    "\n",
    "set_trainable = False\n",
    "for layer in conv_base.layers:\n",
    "  if layer.name == 'block5_conv1':\n",
    "    set_trainable = True\n",
    "  if set_trainable:\n",
    "    layer.trainable = True\n",
    "  else:\n",
    "    layer.trainable = False"
   ]
  },
  {
   "cell_type": "markdown",
   "metadata": {
    "id": "7uCc31nj3lJq"
   },
   "source": [
    "### 학습률을 작게 조정한다 (천천히 학습하도록)"
   ]
  },
  {
   "cell_type": "code",
   "execution_count": null,
   "metadata": {
    "id": "oEZvEBLt3fZl"
   },
   "outputs": [],
   "source": [
    "model.compile(loss='binary_crossentropy',\n",
    "              optimizer=optimizers.RMSprop(lr=1e-5),\n",
    "              metrics=['accuracy'])\n",
    "\n",
    "\n",
    "history = model.fit_generator(\n",
    "    generator=train_generator, \n",
    "    steps_per_epoch=100,\n",
    "    epochs=30,\n",
    "    validation_data=validation_generator,\n",
    "    validation_steps=50)"
   ]
  },
  {
   "cell_type": "code",
   "execution_count": null,
   "metadata": {
    "id": "kib3w3KOtI34"
   },
   "outputs": [],
   "source": [
    "acc = history.history['accuracy']\n",
    "val_acc = history.history['val_accuracy']\n",
    "\n",
    "loss = history.history['loss']\n",
    "val_loss = history.history['val_loss']\n",
    "\n",
    "epochs = range(len(acc))\n",
    "\n",
    "plt.plot(epochs, acc, '--')\n",
    "plt.plot(epochs, val_acc)\n",
    "plt.title('Training(--) and validation accuracy')\n",
    "\n",
    "plt.figure()\n",
    "plt.plot(epochs, loss,  '--')\n",
    "plt.plot(epochs, val_loss)\n",
    "plt.title('Training(--) and validation loss')"
   ]
  },
  {
   "cell_type": "markdown",
   "metadata": {
    "id": "QCbU7FQU47OP"
   },
   "source": [
    "## 성능이 92%로 1% 정도 향상되었다.\n",
    "- 주의 할 것은 손실함수는 향상되지 않는 것으로 나타나도, 성능이 향상될 수 있다는 것이다. (분류 성능은 어떤 임계값만 넘으면 활률적으로 개선될 수 있다)\n",
    "\n",
    "## 요약\n",
    "- 과대적합을 줄이기 위해서 데이터 확장을 사용\n",
    "- 전이학습 중 특성 추출방식 소개\n",
    "- 전이학습 중 미세조정 방식 소개"
   ]
  },
  {
   "cell_type": "code",
   "execution_count": null,
   "metadata": {
    "id": "8zFN7erS5SEV"
   },
   "outputs": [],
   "source": []
  }
 ],
 "metadata": {
  "accelerator": "GPU",
  "colab": {
   "collapsed_sections": [],
   "name": "h_38_전이학습.ipynb",
   "provenance": []
  },
  "kernelspec": {
   "display_name": "Python 3",
   "language": "python",
   "name": "python3"
  },
  "language_info": {
   "codemirror_mode": {
    "name": "ipython",
    "version": 3
   },
   "file_extension": ".py",
   "mimetype": "text/x-python",
   "name": "python",
   "nbconvert_exporter": "python",
   "pygments_lexer": "ipython3",
   "version": "3.8.8"
  },
  "toc": {
   "base_numbering": 1,
   "nav_menu": {},
   "number_sections": true,
   "sideBar": true,
   "skip_h1_title": false,
   "title_cell": "Table of Contents",
   "title_sidebar": "Contents",
   "toc_cell": false,
   "toc_position": {},
   "toc_section_display": true,
   "toc_window_display": false
  }
 },
 "nbformat": 4,
 "nbformat_minor": 1
}
